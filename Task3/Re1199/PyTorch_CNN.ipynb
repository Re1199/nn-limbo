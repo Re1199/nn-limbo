{
  "nbformat": 4,
  "nbformat_minor": 0,
  "metadata": {
    "accelerator": "GPU",
    "colab": {
      "name": "PyTorch_CNN.ipynb",
      "provenance": [],
      "collapsed_sections": []
    },
    "kernelspec": {
      "name": "python3",
      "display_name": "Python 3"
    },
    "language_info": {
      "codemirror_mode": {
        "name": "ipython",
        "version": 3
      },
      "file_extension": ".py",
      "mimetype": "text/x-python",
      "name": "python",
      "nbconvert_exporter": "python",
      "pygments_lexer": "ipython3",
      "version": "3.7.0"
    },
    "pycharm": {
      "stem_cell": {
        "cell_type": "raw",
        "source": [],
        "metadata": {
          "collapsed": false
        }
      }
    }
  },
  "cells": [
    {
      "cell_type": "markdown",
      "metadata": {
        "id": "Y7dsJZRmkDje",
        "colab_type": "text"
      },
      "source": [
        "# Задание 3.2 - сверточные нейронные сети (CNNs) в PyTorch\n",
        "\n",
        "Это упражнение мы буде выполнять в Google Colab - https://colab.research.google.com/  \n",
        "Google Colab позволяет запускать код в notebook в облаке Google, где можно воспользоваться бесплатным GPU!  \n",
        "\n",
        "Авторы курса благодарят компанию Google и надеятся, что праздник не закончится.\n",
        "\n",
        "Туториал по настройке Google Colab:  \n",
        "https://medium.com/deep-learning-turkey/google-colab-free-gpu-tutorial-e113627b9f5d  \n",
        "(Keras инсталлировать не нужно, наш notebook сам установит PyTorch)\n"
      ]
    },
    {
      "cell_type": "code",
      "metadata": {
        "colab_type": "code",
        "id": "FcXBeP1O7cnY",
        "pycharm": {
          "is_executing": false
        },
        "outputId": "58206e99-6593-4cc5-f7ab-1b0ebb05d959",
        "colab": {
          "base_uri": "https://localhost:8080/",
          "height": 504
        }
      },
      "source": [
        "# Intstall PyTorch and download data\n",
        "!pip3 install torch torchvision\n",
        "\n",
        "!wget -c http://ufldl.stanford.edu/housenumbers/train_32x32.mat http://ufldl.stanford.edu/housenumbers/test_32x32.mat"
      ],
      "execution_count": 1,
      "outputs": [
        {
          "output_type": "stream",
          "text": [
            "Requirement already satisfied: torch in /usr/local/lib/python3.6/dist-packages (1.4.0)\n",
            "Requirement already satisfied: torchvision in /usr/local/lib/python3.6/dist-packages (0.5.0)\n",
            "Requirement already satisfied: numpy in /usr/local/lib/python3.6/dist-packages (from torchvision) (1.18.1)\n",
            "Requirement already satisfied: six in /usr/local/lib/python3.6/dist-packages (from torchvision) (1.12.0)\n",
            "Requirement already satisfied: pillow>=4.1.1 in /usr/local/lib/python3.6/dist-packages (from torchvision) (7.0.0)\n",
            "--2020-03-18 16:15:52--  http://ufldl.stanford.edu/housenumbers/train_32x32.mat\n",
            "Resolving ufldl.stanford.edu (ufldl.stanford.edu)... 171.64.68.10\n",
            "Connecting to ufldl.stanford.edu (ufldl.stanford.edu)|171.64.68.10|:80... connected.\n",
            "HTTP request sent, awaiting response... 200 OK\n",
            "Length: 182040794 (174M) [text/plain]\n",
            "Saving to: ‘train_32x32.mat’\n",
            "\n",
            "train_32x32.mat     100%[===================>] 173.61M  53.9MB/s    in 3.4s    \n",
            "\n",
            "2020-03-18 16:15:56 (51.4 MB/s) - ‘train_32x32.mat’ saved [182040794/182040794]\n",
            "\n",
            "--2020-03-18 16:15:56--  http://ufldl.stanford.edu/housenumbers/test_32x32.mat\n",
            "Reusing existing connection to ufldl.stanford.edu:80.\n",
            "HTTP request sent, awaiting response... 200 OK\n",
            "Length: 64275384 (61M) [text/plain]\n",
            "Saving to: ‘test_32x32.mat’\n",
            "\n",
            "test_32x32.mat      100%[===================>]  61.30M  17.0MB/s    in 3.5s    \n",
            "\n",
            "2020-03-18 16:15:59 (17.4 MB/s) - ‘test_32x32.mat’ saved [64275384/64275384]\n",
            "\n",
            "FINISHED --2020-03-18 16:15:59--\n",
            "Total wall clock time: 7.1s\n",
            "Downloaded: 2 files, 235M in 6.9s (34.0 MB/s)\n"
          ],
          "name": "stdout"
        }
      ]
    },
    {
      "cell_type": "code",
      "metadata": {
        "colab_type": "code",
        "id": "-afwWw-Q85vD",
        "pycharm": {
          "is_executing": false
        },
        "colab": {}
      },
      "source": [
        "from collections import namedtuple\n",
        "\n",
        "import matplotlib.pyplot as plt\n",
        "import numpy as np\n",
        "import PIL\n",
        "import torch\n",
        "import torch.nn as nn\n",
        "import torch.optim as optim\n",
        "import torchvision.datasets as dset\n",
        "from torch.utils.data.sampler import SubsetRandomSampler\n",
        "\n",
        "from torchvision import transforms"
      ],
      "execution_count": 0,
      "outputs": []
    },
    {
      "cell_type": "code",
      "metadata": {
        "colab_type": "code",
        "id": "NNU-OD9O9ltP",
        "pycharm": {
          "is_executing": false
        },
        "colab": {}
      },
      "source": [
        "device = torch.device(\"cuda:0\") # Let's make sure GPU is available!"
      ],
      "execution_count": 0,
      "outputs": []
    },
    {
      "cell_type": "markdown",
      "metadata": {
        "id": "RjrvrT4NkDjx",
        "colab_type": "text"
      },
      "source": [
        "# Загружаем данные"
      ]
    },
    {
      "cell_type": "code",
      "metadata": {
        "colab_type": "code",
        "id": "YAvkoRx-9FsP",
        "pycharm": {
          "is_executing": false
        },
        "colab": {}
      },
      "source": [
        "# First, lets load the dataset\n",
        "data_train = dset.SVHN('./', \n",
        "                       transform=transforms.Compose([\n",
        "                           transforms.ToTensor(),\n",
        "                           transforms.Normalize(mean=[0.43,0.44,0.47],\n",
        "                                               std=[0.20,0.20,0.20])                           \n",
        "                       ])\n",
        "                      )\n",
        "data_test = dset.SVHN('./', split='test', transform=transforms.Compose([\n",
        "                           transforms.ToTensor(),\n",
        "                           transforms.Normalize(mean=[0.43,0.44,0.47],\n",
        "                                               std=[0.20,0.20,0.20])                           \n",
        "                       ]))"
      ],
      "execution_count": 0,
      "outputs": []
    },
    {
      "cell_type": "markdown",
      "metadata": {
        "id": "QK4OzHH3kDj4",
        "colab_type": "text"
      },
      "source": [
        "Разделяем данные на training и validation.\n",
        "\n",
        "На всякий случай для подробностей - https://pytorch.org/tutorials/beginner/data_loading_tutorial.html"
      ]
    },
    {
      "cell_type": "code",
      "metadata": {
        "colab_type": "code",
        "id": "YRnr8CPg7Hli",
        "pycharm": {
          "is_executing": false
        },
        "colab": {}
      },
      "source": [
        "batch_size = 64\n",
        "\n",
        "data_size = data_train.data.shape[0]\n",
        "validation_split = .2\n",
        "split = int(np.floor(validation_split * data_size))\n",
        "indices = list(range(data_size))\n",
        "np.random.shuffle(indices)\n",
        "\n",
        "train_indices, val_indices = indices[split:], indices[:split]\n",
        "\n",
        "train_sampler = SubsetRandomSampler(train_indices)\n",
        "val_sampler = SubsetRandomSampler(val_indices)\n",
        "\n",
        "train_loader = torch.utils.data.DataLoader(data_train, batch_size=batch_size, \n",
        "                                           sampler=train_sampler)\n",
        "val_loader = torch.utils.data.DataLoader(data_train, batch_size=batch_size,\n",
        "                                         sampler=val_sampler)"
      ],
      "execution_count": 0,
      "outputs": []
    },
    {
      "cell_type": "code",
      "metadata": {
        "colab_type": "code",
        "id": "LyYvt-T67PBG",
        "pycharm": {
          "is_executing": false
        },
        "colab": {}
      },
      "source": [
        "# We'll use a special helper module to shape it into a flat tensor\n",
        "class Flattener(nn.Module):\n",
        "    def forward(self, x):\n",
        "        batch_size, *_ = x.shape\n",
        "        return x.view(batch_size, -1)"
      ],
      "execution_count": 0,
      "outputs": []
    },
    {
      "cell_type": "markdown",
      "metadata": {
        "id": "uUzeVcPCkDkD",
        "colab_type": "text"
      },
      "source": [
        "Создадим простейшую сеть с новыми слоями:  \n",
        "Convolutional - `nn.Conv2d`  \n",
        "MaxPool - `nn.MaxPool2d`"
      ]
    },
    {
      "cell_type": "code",
      "metadata": {
        "colab_type": "code",
        "id": "w9SFVGZP7SQd",
        "pycharm": {
          "is_executing": false
        },
        "colab": {}
      },
      "source": [
        "nn_model = nn.Sequential(\n",
        "            nn.Conv2d(3, 64, 3, padding=1),\n",
        "            nn.ReLU(inplace=True),\n",
        "            nn.MaxPool2d(4),\n",
        "            nn.Conv2d(64, 64, 3, padding=1),\n",
        "            nn.ReLU(inplace=True),\n",
        "            nn.MaxPool2d(4),    \n",
        "            Flattener(),\n",
        "            nn.Linear(64*2*2, 10),\n",
        "          )\n",
        "\n",
        "nn_model.type(torch.cuda.FloatTensor)\n",
        "nn_model.to(device)\n",
        "\n",
        "loss = nn.CrossEntropyLoss().type(torch.cuda.FloatTensor)\n",
        "optimizer = optim.SGD(nn_model.parameters(), lr=1e-1, weight_decay=1e-4)"
      ],
      "execution_count": 0,
      "outputs": []
    },
    {
      "cell_type": "markdown",
      "metadata": {
        "id": "rECRWEH6kDkI",
        "colab_type": "text"
      },
      "source": [
        "Восстановите функцию `compute_accuracy` из прошлого задания.  \n",
        "Единственное отличие в новом - она должна передать данные на GPU прежде чем прогонять через модель. Сделайте это так же, как это делает функция `train_model`"
      ]
    },
    {
      "cell_type": "code",
      "metadata": {
        "colab_type": "code",
        "id": "2ek3KVQK7hJ6",
        "pycharm": {
          "is_executing": false
        },
        "outputId": "89e83bb0-835b-4b9d-8a57-6b42e1b2546d",
        "colab": {
          "base_uri": "https://localhost:8080/",
          "height": 101
        }
      },
      "source": [
        "def train_model(model, train_loader, val_loader, loss, optimizer, num_epochs, step=None): \n",
        "    if step is not None: \n",
        "        scheduler = optim.lr_scheduler.StepLR(optimizer, step_size=step, gamma=0.5)    \n",
        "    loss_history = []\n",
        "    train_history = []\n",
        "    val_history = []\n",
        "    for epoch in range(num_epochs):\n",
        "        model.train() # Enter train mode\n",
        "        \n",
        "        loss_accum = 0\n",
        "        correct_samples = 0\n",
        "        total_samples = 0\n",
        "        for i_step, (x, y) in enumerate(train_loader):\n",
        "          \n",
        "            x_gpu = x.to(device)\n",
        "            y_gpu = y.to(device)\n",
        "            prediction = model(x_gpu)    \n",
        "            loss_value = loss(prediction, y_gpu)\n",
        "            optimizer.zero_grad()\n",
        "            loss_value.backward()\n",
        "            optimizer.step()\n",
        "            \n",
        "            if step is not None: \n",
        "                scheduler.step()\n",
        "\n",
        "            _, indices = torch.max(prediction, 1)\n",
        "            correct_samples += torch.sum(indices == y_gpu)\n",
        "            total_samples += y.shape[0]\n",
        "            \n",
        "            loss_accum += loss_value\n",
        "\n",
        "        ave_loss = loss_accum / i_step\n",
        "        train_accuracy = float(correct_samples) / total_samples\n",
        "        val_accuracy = compute_accuracy(model, val_loader)\n",
        "        \n",
        "        loss_history.append(float(ave_loss))\n",
        "        train_history.append(train_accuracy)\n",
        "        val_history.append(val_accuracy)\n",
        "        \n",
        "        print(\"Average loss: %f, Train accuracy: %f, Val accuracy: %f\" % (ave_loss, train_accuracy, val_accuracy))\n",
        "        \n",
        "    return loss_history, train_history, val_history\n",
        "\n",
        "def compute_accuracy(model, loader):\n",
        "    \"\"\"\n",
        "    Computes accuracy on the dataset wrapped in a loader\n",
        "    \n",
        "    Returns: accuracy as a float value between 0 and 1\n",
        "    \"\"\"\n",
        "    model.eval() # Evaluation mode\n",
        "    # TODO: Implement the inference of the model on all of the batches from loader,\n",
        "    #       and compute the overall accuracy.\n",
        "    # Hint: PyTorch has the argmax function!\n",
        "    val_accuracy = 0\n",
        "    correct = 0\n",
        "    total = 0\n",
        "\n",
        "    for x, y in loader:\n",
        "        x_gpu = x.to(device)\n",
        "        y_gpu = y.to(device)\n",
        "\n",
        "        prediction = model(x_gpu)\n",
        "\n",
        "        _, indices = torch.max(prediction, 1)\n",
        "        correct += torch.sum(indices == y_gpu)\n",
        "        total += y_gpu.shape[0]\n",
        "    \n",
        "    return float(correct) / total\n",
        "\n",
        "loss_history, train_history, val_history = train_model(nn_model, train_loader, val_loader, loss, optimizer, 5)"
      ],
      "execution_count": 8,
      "outputs": [
        {
          "output_type": "stream",
          "text": [
            "Average loss: 1.384547, Train accuracy: 0.537283, Val accuracy: 0.678520\n",
            "Average loss: 0.701357, Train accuracy: 0.785773, Val accuracy: 0.808409\n",
            "Average loss: 0.602043, Train accuracy: 0.819199, Val accuracy: 0.831616\n",
            "Average loss: 0.556871, Train accuracy: 0.834232, Val accuracy: 0.843287\n",
            "Average loss: 0.526835, Train accuracy: 0.844282, Val accuracy: 0.822196\n"
          ],
          "name": "stdout"
        }
      ]
    },
    {
      "cell_type": "markdown",
      "metadata": {
        "colab_type": "text",
        "id": "6a-3a1ZFGEw_"
      },
      "source": [
        "# Аугментация данных (Data augmentation)\n",
        "\n",
        "В работе с изображениями одним из особенно важных методов является аугментация данных - то есть, генерация дополнительных данных для тренировки на основе изначальных.   \n",
        "Таким образом, мы получаем возможность \"увеличить\" набор данных для тренировки, что ведет к лучшей работе сети.\n",
        "Важно, чтобы аугментированные данные были похожи на те, которые могут встретиться в реальной жизни, иначе польза от аугментаций уменьшается и может ухудшить работу сети.\n",
        "\n",
        "С PyTorch идут несколько таких алгоритмов, называемых `transforms`. Более подробно про них можно прочитать тут -\n",
        "https://pytorch.org/tutorials/beginner/data_loading_tutorial.html#transforms\n",
        "\n",
        "Ниже мы используем следующие алгоритмы генерации:\n",
        "- ColorJitter - случайное изменение цвета\n",
        "- RandomHorizontalFlip - горизонтальное отражение с вероятностью 50%\n",
        "- RandomVerticalFlip - вертикальное отражение с вероятностью 50%\n",
        "- RandomRotation - случайный поворот"
      ]
    },
    {
      "cell_type": "code",
      "metadata": {
        "colab_type": "code",
        "id": "jCWMUWmr7t5g",
        "pycharm": {
          "is_executing": false
        },
        "colab": {}
      },
      "source": [
        "tfs = transforms.Compose([\n",
        "    transforms.ColorJitter(hue=.50, saturation=.50),\n",
        "    transforms.RandomHorizontalFlip(),\n",
        "    transforms.RandomVerticalFlip(),\n",
        "    transforms.RandomRotation(50, resample=PIL.Image.BILINEAR),\n",
        "    transforms.ToTensor(),\n",
        "    transforms.Normalize(mean=[0.43,0.44,0.47],\n",
        "                       std=[0.20,0.20,0.20])                           \n",
        "])\n",
        "\n",
        "# Create augmented train dataset\n",
        "data_aug_train = dset.SVHN('./', \n",
        "                       transform=tfs\n",
        "                      )\n",
        "\n",
        "train_aug_loader = torch.utils.data.DataLoader(data_aug_train, batch_size=batch_size, \n",
        "                                           sampler=train_sampler)"
      ],
      "execution_count": 0,
      "outputs": []
    },
    {
      "cell_type": "markdown",
      "metadata": {
        "id": "14Ogu8R0kDkT",
        "colab_type": "text"
      },
      "source": [
        "Визуализируем результаты агментации (вообще, смотреть на сгенерированные данные всегда очень полезно)."
      ]
    },
    {
      "cell_type": "code",
      "metadata": {
        "colab_type": "code",
        "id": "YlJJEro1KZ45",
        "pycharm": {
          "is_executing": false
        },
        "outputId": "020c94f7-5b0d-4b8e-8d0e-865bacacc625",
        "colab": {
          "base_uri": "https://localhost:8080/",
          "height": 193
        }
      },
      "source": [
        "# TODO: Visualize some augmented images!\n",
        "# hint: you can create new datasets and loaders to accomplish this\n",
        "\n",
        "# Based on the visualizations, should we keep all the augmentations?\n",
        "\n",
        "tfs = transforms.Compose([\n",
        "    transforms.ColorJitter(hue=.20, saturation=.20),\n",
        "    transforms.RandomHorizontalFlip(),\n",
        "    transforms.RandomVerticalFlip(),\n",
        "    transforms.RandomRotation(10, resample=PIL.Image.BILINEAR),\n",
        "])\n",
        "\n",
        "data_aug_vis = dset.SVHN('./', \n",
        "                       transform=tfs\n",
        "                      )\n",
        "\n",
        "plt.figure(figsize=(30, 3))\n",
        "\n",
        "for i, (x, y) in enumerate(data_aug_vis):\n",
        "    if i == 10:\n",
        "        break\n",
        "    plt.subplot(1, 10, i+1)\n",
        "    plt.grid(False)\n",
        "    plt.imshow(x)\n",
        "    plt.axis('off')"
      ],
      "execution_count": 10,
      "outputs": [
        {
          "output_type": "display_data",
          "data": {
            "image/png": "[encoded data removed]",
            "text/plain": [
              "<Figure size 2160x216 with 10 Axes>"
            ]
          },
          "metadata": {
            "tags": []
          }
        }
      ]
    },
    {
      "cell_type": "markdown",
      "metadata": {
        "colab_type": "text",
        "id": "o2LrmsYHoguB"
      },
      "source": [
        "Все ли агментации одинаково полезны на этом наборе данных? Могут ли быть среди них те, которые собьют модель с толку?\n",
        "\n",
        "Выберите из них только корректные"
      ]
    },
    {
      "cell_type": "code",
      "metadata": {
        "colab_type": "code",
        "id": "evro9ksXGs9u",
        "pycharm": {
          "is_executing": false
        },
        "colab": {}
      },
      "source": [
        "# TODO: \n",
        "tfs = transforms.Compose([\n",
        "    # TODO: Add good augmentations\n",
        "    transforms.ToTensor(),\n",
        "    transforms.Normalize(mean=[0.43,0.44,0.47],\n",
        "                       std=[0.20,0.20,0.20])                           \n",
        "])\n",
        "\n",
        "# TODO create new instances of loaders with the augmentations you chose\n",
        "data_aug_train = dset.SVHN('./', \n",
        "                       transform=tfs\n",
        "                      )\n",
        "\n",
        "train_aug_loader = torch.utils.data.DataLoader(data_aug_train, batch_size=batch_size, \n",
        "                                           sampler=train_sampler)"
      ],
      "execution_count": 0,
      "outputs": []
    },
    {
      "cell_type": "code",
      "metadata": {
        "colab_type": "code",
        "id": "PeO6Zw0DHqPR",
        "pycharm": {
          "is_executing": false
        },
        "outputId": "7c9b51d4-7b27-4633-88d3-4319b1f7785e",
        "colab": {
          "base_uri": "https://localhost:8080/",
          "height": 101
        }
      },
      "source": [
        "# Finally, let's train with augmentations!\n",
        "\n",
        "# Note we shouldn't use augmentations on validation\n",
        "\n",
        "loss_history, train_history, val_history = train_model(nn_model, train_aug_loader, val_loader, loss, optimizer, 5)"
      ],
      "execution_count": 12,
      "outputs": [
        {
          "output_type": "stream",
          "text": [
            "Average loss: 0.502205, Train accuracy: 0.850988, Val accuracy: 0.834346\n",
            "Average loss: 0.490257, Train accuracy: 0.853291, Val accuracy: 0.833527\n",
            "Average loss: 0.471739, Train accuracy: 0.860458, Val accuracy: 0.853252\n",
            "Average loss: 0.457329, Train accuracy: 0.864127, Val accuracy: 0.823630\n",
            "Average loss: 0.449482, Train accuracy: 0.866823, Val accuracy: 0.855095\n"
          ],
          "name": "stdout"
        }
      ]
    },
    {
      "cell_type": "markdown",
      "metadata": {
        "colab_type": "text",
        "id": "r0bcioK6JBDK"
      },
      "source": [
        "# LeNet\n",
        "Попробуем имплементировать классическую архитектуру сверточной нейронной сети, предложенную Яном ЛеКуном в 1998 году. В свое время она достигла впечатляющих результатов на MNIST, посмотрим как она справится с SVHN?\n",
        "Она описана в статье [\"Gradient Based Learning Applied to Document Recognition\"](http://yann.lecun.com/exdb/publis/pdf/lecun-01a.pdf), попробуйте прочитать ключевые части и имплементировать предложенную архитетуру на PyTorch.\n",
        "\n",
        "Реализовывать слои и функцию ошибки LeNet, которых нет в PyTorch, **не нужно** - просто возьмите их размеры и переведите в уже известные нам Convolutional, Pooling и Fully Connected layers.\n",
        "\n",
        "Если в статье не очень понятно, можно просто погуглить LeNet и разобраться в деталях :)"
      ]
    },
    {
      "cell_type": "code",
      "metadata": {
        "colab_type": "code",
        "id": "ieEzZUglJAUB",
        "pycharm": {
          "is_executing": false
        },
        "colab": {}
      },
      "source": [
        "# TODO: Implement LeNet-like architecture for SVHN task\n",
        "lenet_model = nn.Sequential(\n",
        "            nn.Conv2d(3, 6, 5),\n",
        "            nn.ReLU(inplace=True),\n",
        "            nn.MaxPool2d(2, stride=2),\n",
        "            nn.Conv2d(6, 16, 5),\n",
        "            nn.ReLU(inplace=True),\n",
        "            nn.MaxPool2d(2, stride=2), \n",
        "            nn.Conv2d(16, 120, 5),\n",
        "            nn.ReLU(inplace=True),\n",
        "            Flattener(),\n",
        "            nn.Linear(120, 84),\n",
        "            nn.ReLU(inplace=True),\n",
        "            nn.Linear(84, 10)\n",
        "          )\n",
        "\n",
        "lenet_model.type(torch.cuda.FloatTensor)\n",
        "lenet_model.to(device)\n",
        "\n",
        "loss = nn.CrossEntropyLoss().type(torch.cuda.FloatTensor)\n",
        "optimizer = optim.SGD(lenet_model.parameters(), lr=1e-1, weight_decay=1e-4)"
      ],
      "execution_count": 0,
      "outputs": []
    },
    {
      "cell_type": "code",
      "metadata": {
        "colab_type": "code",
        "id": "WMmaPfdeKk9H",
        "pycharm": {
          "is_executing": false
        },
        "outputId": "1d2e71f6-4802-46cf-bf45-8d2844ce385c",
        "colab": {
          "base_uri": "https://localhost:8080/",
          "height": 185
        }
      },
      "source": [
        "# Let's train it!\n",
        "loss_history, train_history, val_history = train_model(lenet_model, train_aug_loader, val_loader, loss, optimizer, 10)"
      ],
      "execution_count": 14,
      "outputs": [
        {
          "output_type": "stream",
          "text": [
            "Average loss: 1.308867, Train accuracy: 0.556086, Val accuracy: 0.844994\n",
            "Average loss: 0.503715, Train accuracy: 0.852080, Val accuracy: 0.860829\n",
            "Average loss: 0.406966, Train accuracy: 0.879995, Val accuracy: 0.869906\n",
            "Average loss: 0.359380, Train accuracy: 0.892690, Val accuracy: 0.887311\n",
            "Average loss: 0.318260, Train accuracy: 0.904941, Val accuracy: 0.872022\n",
            "Average loss: 0.291838, Train accuracy: 0.912842, Val accuracy: 0.894069\n",
            "Average loss: 0.267903, Train accuracy: 0.919377, Val accuracy: 0.885742\n",
            "Average loss: 0.251473, Train accuracy: 0.923796, Val accuracy: 0.889769\n",
            "Average loss: 0.232151, Train accuracy: 0.929973, Val accuracy: 0.887926\n",
            "Average loss: 0.217985, Train accuracy: 0.932669, Val accuracy: 0.893181\n"
          ],
          "name": "stdout"
        }
      ]
    },
    {
      "cell_type": "markdown",
      "metadata": {
        "colab_type": "text",
        "id": "u_O9qiYySvuj"
      },
      "source": [
        "# Подбор гиперпараметров"
      ]
    },
    {
      "cell_type": "code",
      "metadata": {
        "colab_type": "code",
        "id": "i6mhfdQ9K-N3",
        "pycharm": {
          "is_executing": false
        },
        "outputId": "6958778e-2c77-4c40-afcc-258ad963a31a",
        "colab": {
          "base_uri": "https://localhost:8080/",
          "height": 941
        }
      },
      "source": [
        "# The key hyperparameters we're going to tune are learning speed, annealing rate and regularization\n",
        "# We also encourage you to try different optimizers as well\n",
        "\n",
        "Hyperparams = namedtuple(\"Hyperparams\", ['learning_rate', 'anneal_epochs', 'reg'])\n",
        "RunResult = namedtuple(\"RunResult\", ['model', 'train_history', 'val_history', 'final_val_accuracy'])\n",
        "\n",
        "learning_rates = [1e-2, 1e-4]\n",
        "anneal_coeff = 0.2\n",
        "anneal_epochs = [5, 10]\n",
        "reg = [1e-3, 1e-5]\n",
        "\n",
        "batch_size = 64\n",
        "epoch_num = 10\n",
        "\n",
        "# Record all the runs here\n",
        "# Key should be Hyperparams and values should be RunResult\n",
        "\n",
        "def get_params(params):\n",
        "    pars = [np.random.choice(np.array(p), 1)[0] for p in params]\n",
        "    print(\"lr: {}, an_epochs: {}, reg: {}\".format(*pars))\n",
        "    return pars\n",
        "\n",
        "run_record = {} \n",
        "\n",
        "# Use grid search or random search and record all runs in run_record dictionnary \n",
        "# Important: perform search in logarithmic space!\n",
        "\n",
        "# TODO: Your code here!\n",
        "parameters = [learning_rates, anneal_epochs, reg]\n",
        "iterations = 5\n",
        "for it in range(iterations):\n",
        "    lr, an_epoch, reg = get_params(parameters)\n",
        "    optimizer = optim.Adam(lenet_model.parameters(), lr=lr, weight_decay=reg)\n",
        "    _, train_history, val_history = train_model(lenet_model, train_aug_loader, val_loader, loss, optimizer, epoch_num, an_epoch)\n",
        "    run_record[Hyperparams(lr, an_epoch, reg)] = RunResult(lenet_model, train_history, val_history, val_history[-1])"
      ],
      "execution_count": 21,
      "outputs": [
        {
          "output_type": "stream",
          "text": [
            "lr: 0.01, an_epochs: 5, reg: 0.001\n",
            "Average loss: 2.238277, Train accuracy: 0.189400, Val accuracy: 0.188315\n",
            "Average loss: 2.237942, Train accuracy: 0.189435, Val accuracy: 0.188315\n",
            "Average loss: 2.237972, Train accuracy: 0.189435, Val accuracy: 0.188315\n",
            "Average loss: 2.237977, Train accuracy: 0.189435, Val accuracy: 0.188315\n",
            "Average loss: 2.237988, Train accuracy: 0.189435, Val accuracy: 0.188315\n",
            "Average loss: 2.237929, Train accuracy: 0.189435, Val accuracy: 0.188315\n",
            "Average loss: 2.237975, Train accuracy: 0.189435, Val accuracy: 0.188315\n",
            "Average loss: 2.237989, Train accuracy: 0.189435, Val accuracy: 0.188315\n",
            "Average loss: 2.237985, Train accuracy: 0.189435, Val accuracy: 0.188315\n",
            "Average loss: 2.237972, Train accuracy: 0.189435, Val accuracy: 0.188315\n",
            "lr: 0.01, an_epochs: 5, reg: 0.001\n",
            "Average loss: 2.240634, Train accuracy: 0.189435, Val accuracy: 0.188315\n",
            "Average loss: 2.240497, Train accuracy: 0.189435, Val accuracy: 0.188315\n",
            "Average loss: 2.240510, Train accuracy: 0.189435, Val accuracy: 0.188315\n",
            "Average loss: 2.240484, Train accuracy: 0.189435, Val accuracy: 0.188315\n",
            "Average loss: 2.240498, Train accuracy: 0.189435, Val accuracy: 0.188315\n",
            "Average loss: 2.240483, Train accuracy: 0.189435, Val accuracy: 0.188315\n",
            "Average loss: 2.240493, Train accuracy: 0.189435, Val accuracy: 0.188315\n",
            "Average loss: 2.240500, Train accuracy: 0.189435, Val accuracy: 0.188315\n",
            "Average loss: 2.240503, Train accuracy: 0.189435, Val accuracy: 0.188315\n",
            "Average loss: 2.240507, Train accuracy: 0.189435, Val accuracy: 0.188315\n",
            "lr: 0.01, an_epochs: 5, reg: 0.001\n",
            "Average loss: 2.242383, Train accuracy: 0.189332, Val accuracy: 0.188315\n",
            "Average loss: 2.241934, Train accuracy: 0.189435, Val accuracy: 0.188315\n",
            "Average loss: 2.241956, Train accuracy: 0.189435, Val accuracy: 0.188315\n",
            "Average loss: 2.241924, Train accuracy: 0.189435, Val accuracy: 0.188315\n",
            "Average loss: 2.241968, Train accuracy: 0.189435, Val accuracy: 0.188315\n",
            "Average loss: 2.241932, Train accuracy: 0.189435, Val accuracy: 0.188315\n",
            "Average loss: 2.241925, Train accuracy: 0.189435, Val accuracy: 0.188315\n",
            "Average loss: 2.241938, Train accuracy: 0.189435, Val accuracy: 0.188315\n",
            "Average loss: 2.241954, Train accuracy: 0.189435, Val accuracy: 0.188315\n",
            "Average loss: 2.241932, Train accuracy: 0.189435, Val accuracy: 0.188315\n",
            "lr: 0.01, an_epochs: 10, reg: 0.001\n",
            "Average loss: 2.239287, Train accuracy: 0.189690, Val accuracy: 0.188315\n",
            "Average loss: 2.239064, Train accuracy: 0.189605, Val accuracy: 0.188315\n",
            "Average loss: 2.239047, Train accuracy: 0.189605, Val accuracy: 0.188315\n",
            "Average loss: 2.239066, Train accuracy: 0.189605, Val accuracy: 0.188315\n",
            "Average loss: 2.239049, Train accuracy: 0.189605, Val accuracy: 0.188315\n",
            "Average loss: 2.239056, Train accuracy: 0.189605, Val accuracy: 0.188315\n",
            "Average loss: 2.239083, Train accuracy: 0.189605, Val accuracy: 0.188315\n",
            "Average loss: 2.239069, Train accuracy: 0.189605, Val accuracy: 0.188315\n",
            "Average loss: 2.239085, Train accuracy: 0.189605, Val accuracy: 0.188315\n",
            "Average loss: 2.239067, Train accuracy: 0.189605, Val accuracy: 0.188315\n",
            "lr: 0.01, an_epochs: 10, reg: 0.001\n",
            "Average loss: 2.236888, Train accuracy: 0.189400, Val accuracy: 0.188315\n",
            "Average loss: 2.236430, Train accuracy: 0.189435, Val accuracy: 0.188315\n",
            "Average loss: 2.236426, Train accuracy: 0.189435, Val accuracy: 0.188315\n",
            "Average loss: 2.236434, Train accuracy: 0.189435, Val accuracy: 0.188315\n",
            "Average loss: 2.236387, Train accuracy: 0.189435, Val accuracy: 0.188315\n",
            "Average loss: 2.236412, Train accuracy: 0.189435, Val accuracy: 0.188315\n",
            "Average loss: 2.236421, Train accuracy: 0.189435, Val accuracy: 0.188315\n",
            "Average loss: 2.236428, Train accuracy: 0.189435, Val accuracy: 0.188315\n",
            "Average loss: 2.236443, Train accuracy: 0.189435, Val accuracy: 0.188315\n",
            "Average loss: 2.236421, Train accuracy: 0.189435, Val accuracy: 0.188315\n"
          ],
          "name": "stdout"
        }
      ]
    },
    {
      "cell_type": "code",
      "metadata": {
        "colab_type": "code",
        "id": "Y6xExdw8JB1l",
        "outputId": "fddb1fc8-93e5-4078-841d-620bfa006cf5",
        "pycharm": {
          "is_executing": false
        },
        "colab": {
          "base_uri": "https://localhost:8080/",
          "height": 34
        }
      },
      "source": [
        "best_val_accuracy = None\n",
        "best_hyperparams = None\n",
        "best_run = None\n",
        "\n",
        "for hyperparams, run_result in run_record.items():\n",
        "    if best_val_accuracy is None or best_val_accuracy < run_result.final_val_accuracy:\n",
        "        best_val_accuracy = run_result.final_val_accuracy\n",
        "        best_hyperparams = hyperparams\n",
        "        best_run = run_result\n",
        "        \n",
        "print(\"Best validation accuracy: %.2f, best hyperparams: %s\" % (best_val_accuracy, best_hyperparams))\n",
        "        "
      ],
      "execution_count": 34,
      "outputs": [
        {
          "output_type": "stream",
          "text": [
            "Best validation accuracy: 0.19, best hyperparams: Hyperparams(learning_rate=0.01, anneal_epochs=5, reg=0.001)\n"
          ],
          "name": "stdout"
        }
      ]
    },
    {
      "cell_type": "markdown",
      "metadata": {
        "colab_type": "text",
        "id": "LOmsR0uVgtgf"
      },
      "source": [
        "# Свободное упражнение - догоним и перегоним LeNet!\n",
        "\n",
        "Попробуйте найти архитектуру и настройки тренировки, чтобы выступить лучше наших бейзлайнов.\n",
        "\n",
        "Что можно и нужно попробовать:\n",
        "- BatchNormalization (для convolution layers он в PyTorch называется [batchnorm2d](https://pytorch.org/docs/stable/nn.html#batchnorm2d))\n",
        "- Изменить количество слоев и их толщину\n",
        "- Изменять количество эпох тренировки\n",
        "- Попробовать и другие агментации"
      ]
    },
    {
      "cell_type": "code",
      "metadata": {
        "colab_type": "code",
        "id": "tSVhD747icoc",
        "pycharm": {
          "is_executing": false
        },
        "outputId": "8dfc9972-fc7d-4e72-a263-b0ccf267c51e",
        "colab": {
          "base_uri": "https://localhost:8080/",
          "height": 269
        }
      },
      "source": [
        "best_model = nn.Sequential(\n",
        "                nn.Conv2d(3, 6, 5),\n",
        "                nn.ReLU(),\n",
        "                nn.MaxPool2d(2, 2),\n",
        "                nn.Conv2d(6, 16, 3),\n",
        "                nn.BatchNorm2d(16),\n",
        "                nn.ReLU(),\n",
        "                nn.MaxPool2d(2, 2),\n",
        "                Flattener(),\n",
        "                nn.ReLU(),\n",
        "                nn.Linear(576, 84),\n",
        "                nn.ReLU(),\n",
        "                nn.Linear(84, 10)\n",
        "          )\n",
        "\n",
        "best_model.type(torch.cuda.FloatTensor)\n",
        "best_model.to(device)\n",
        "\n",
        "optimizer = optim.Adam(best_model.parameters(), lr=1e-3, weight_decay=1e-5)\n",
        "loss_history, train_history, val_history = train_model(best_model, train_aug_loader, val_loader, loss, optimizer, 15)"
      ],
      "execution_count": 31,
      "outputs": [
        {
          "output_type": "stream",
          "text": [
            "Average loss: 0.833245, Train accuracy: 0.747159, Val accuracy: 0.850795\n",
            "Average loss: 0.502264, Train accuracy: 0.853496, Val accuracy: 0.863832\n",
            "Average loss: 0.436825, Train accuracy: 0.872863, Val accuracy: 0.871135\n",
            "Average loss: 0.399580, Train accuracy: 0.881497, Val accuracy: 0.878916\n",
            "Average loss: 0.370906, Train accuracy: 0.889909, Val accuracy: 0.881988\n",
            "Average loss: 0.347809, Train accuracy: 0.897553, Val accuracy: 0.887789\n",
            "Average loss: 0.326543, Train accuracy: 0.903184, Val accuracy: 0.887380\n",
            "Average loss: 0.313819, Train accuracy: 0.906494, Val accuracy: 0.886834\n",
            "Average loss: 0.297993, Train accuracy: 0.910658, Val accuracy: 0.891816\n",
            "Average loss: 0.284924, Train accuracy: 0.915213, Val accuracy: 0.892431\n",
            "Average loss: 0.276062, Train accuracy: 0.917483, Val accuracy: 0.893454\n",
            "Average loss: 0.263682, Train accuracy: 0.921049, Val accuracy: 0.891270\n",
            "Average loss: 0.254699, Train accuracy: 0.923711, Val accuracy: 0.891816\n",
            "Average loss: 0.246628, Train accuracy: 0.926168, Val accuracy: 0.893045\n",
            "Average loss: 0.236780, Train accuracy: 0.928267, Val accuracy: 0.892021\n"
          ],
          "name": "stdout"
        }
      ]
    },
    {
      "cell_type": "markdown",
      "metadata": {
        "colab_type": "text",
        "id": "ubeKgBcnhx7N"
      },
      "source": [
        "# Финальный аккорд - проверим лучшую модель на test set\n",
        "\n",
        "В качестве разнообразия - напишите код для прогона модели на test set вы.\n",
        "\n",
        "В результате вы должны натренировать модель, которая покажет более **90%** точности на test set.  \n",
        "Как водится, лучший результат в группе получит дополнительные баллы!"
      ]
    },
    {
      "cell_type": "code",
      "metadata": {
        "colab_type": "code",
        "id": "EIqM1kdeh-hd",
        "pycharm": {
          "is_executing": false
        },
        "colab": {
          "base_uri": "https://localhost:8080/",
          "height": 34
        },
        "outputId": "625f5c63-d69c-40b8-bcc0-0174987e0127"
      },
      "source": [
        "# TODO Write the code to compute accuracy on test set\n",
        "test_loader = torch.utils.data.DataLoader(data_test, batch_size=batch_size)\n",
        "final_test_accuracy = compute_accuracy(best_model, test_loader)\n",
        "print(\"Final test accuracy - \", final_test_accuracy)"
      ],
      "execution_count": 33,
      "outputs": [
        {
          "output_type": "stream",
          "text": [
            "Final test accuracy -  0.8827212661339889\n"
          ],
          "name": "stdout"
        }
      ]
    },
    {
      "cell_type": "code",
      "metadata": {
        "colab_type": "code",
        "id": "BfH6qip6kVX_",
        "pycharm": {
          "is_executing": false
        },
        "colab": {}
      },
      "source": [
        ""
      ],
      "execution_count": 0,
      "outputs": []
    }
  ]
}